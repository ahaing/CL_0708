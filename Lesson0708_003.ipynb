{
 "cells": [
  {
   "cell_type": "markdown",
   "metadata": {},
   "source": [
    "# break & continue\n",
    "# random (沒有出現在build-in 函數裡面，需參考 python 標準 library) => import random\n",
    "https://docs.python.org/zh-tw/3/library/"
   ]
  },
  {
   "cell_type": "code",
   "execution_count": 9,
   "metadata": {},
   "outputs": [
    {
     "name": "stdout",
     "output_type": "stream",
     "text": [
      "第1個數字為1\n",
      "第2個數字為3\n",
      "第3個數字為4\n",
      "第4個數字為5\n",
      "第5個數字為-9\n",
      "正偶數總和為:4\n"
     ]
    }
   ],
   "source": [
    "\n",
    "sum = 0\n",
    "num = 0\n",
    "while True:\n",
    "    num += 1\n",
    "    input_value = int(input(f\"請輸入第{num}個數字(只加總正偶數，遇到負數則跳停程式)\"))\n",
    "    if input_value <0:\n",
    "        print(f\"第{num}個數字為{input_value}\")\n",
    "        break\n",
    "    elif input_value % 2 == 1:\n",
    "        print(f\"第{num}個數字為{input_value}\")\n",
    "        continue\n",
    "    else:\n",
    "        print(f\"第{num}個數字為{input_value}\")\n",
    "        sum += input_value\n",
    "\n",
    "print (f\"正偶數總和為:{sum}\")"
   ]
  }
 ],
 "metadata": {
  "kernelspec": {
   "display_name": "Python 3",
   "language": "python",
   "name": "python3"
  },
  "language_info": {
   "codemirror_mode": {
    "name": "ipython",
    "version": 3
   },
   "file_extension": ".py",
   "mimetype": "text/x-python",
   "name": "python",
   "nbconvert_exporter": "python",
   "pygments_lexer": "ipython3",
   "version": "3.11.3"
  },
  "orig_nbformat": 4
 },
 "nbformat": 4,
 "nbformat_minor": 2
}
