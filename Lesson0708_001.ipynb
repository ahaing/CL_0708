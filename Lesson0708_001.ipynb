{
 "cells": [
  {
   "cell_type": "code",
<<<<<<< HEAD
   "execution_count": null,
   "metadata": {},
   "outputs": [],
   "source": [
    "#TEST install VS Code on PC\n",
    "print(\"test0708\")"
=======
   "execution_count": 3,
   "metadata": {},
   "outputs": [
    {
     "name": "stdout",
     "output_type": "stream",
     "text": [
      "0708 test python3.11.3\n"
     ]
    }
   ],
   "source": [
    "#test 0708 intall VSCODE on PC\n",
    "print(\"0708 test python3.11.3\")\n"
   ]
  },
  {
   "cell_type": "markdown",
   "metadata": {},
   "source": [
    "for 自訂變數 in iterable (可以一個一個依序讀取)\n",
    "# range()\n",
    "# list, dictionary, set\n",
    "# google\"python standard function\"\n",
    "#class range(stop)\n",
    "#class range(start, stop, step=1)"
   ]
  },
  {
   "cell_type": "code",
   "execution_count": 6,
   "metadata": {},
   "outputs": [
    {
     "name": "stdout",
     "output_type": "stream",
     "text": [
      "0\n",
      "1\n",
      "2\n",
      "3\n",
      "4\n",
      "5\n",
      "6\n",
      "7\n",
      "8\n",
      "9\n"
     ]
    }
   ],
   "source": [
    "# a=range(1,10)\n",
    "# print(a)\n",
    "\n",
    "# range(1,10,#step=2#) #不能這樣寫  #要寫 range(1,10,2)\n",
    "\n",
    "for i in range(10):\n",
    "    print(i)"
   ]
  },
  {
   "cell_type": "markdown",
   "metadata": {},
   "source": [
    "# python 基礎教程 (runoob.com)\n",
    "https://www.runoob.com/python/python-tutorial.html"
   ]
  },
  {
   "cell_type": "code",
   "execution_count": 15,
   "metadata": {},
   "outputs": [
    {
     "name": "stdout",
     "output_type": "stream",
     "text": [
      "i=1\n",
      "\n",
      "1x1=1,1x2=2,1x3=3,1x4=4,1x5=5,1x6=6,1x7=7,1x8=8,1x9=9.\n",
      "-------\n",
      "\n",
      "i=2\n",
      "\n",
      "2x1=2,2x2=4,2x3=6,2x4=8,2x5=10,2x6=12,2x7=14,2x8=16,2x9=18.\n",
      "-------\n",
      "\n",
      "i=3\n",
      "\n",
      "3x1=3,3x2=6,3x3=9,3x4=12,3x5=15,3x6=18,3x7=21,3x8=24,3x9=27.\n",
      "-------\n",
      "\n"
     ]
    }
   ],
   "source": [
    "for i in range(1,4):\n",
    "    print(f\"i={i}\\n\")\n",
    "    #print(\".\")\n",
    "    for j in range(1,10):\n",
    "        if j==9:\n",
    "            print(f\"{i}x{j}={i*j}\",end=\".\")\n",
    "        else:\n",
    "            print(f\"{i}x{j}={i*j}\",end=\",\")\n",
    "    print(\"\\n-------\\n\")    \n",
    "    "
>>>>>>> 8942061cc4a5a3d7d7cac368e90b9e5851460c3d
   ]
  }
 ],
 "metadata": {
<<<<<<< HEAD
  "language_info": {
   "name": "python"
=======
  "kernelspec": {
   "display_name": "Python 3",
   "language": "python",
   "name": "python3"
  },
  "language_info": {
   "codemirror_mode": {
    "name": "ipython",
    "version": 3
   },
   "file_extension": ".py",
   "mimetype": "text/x-python",
   "name": "python",
   "nbconvert_exporter": "python",
   "pygments_lexer": "ipython3",
   "version": "3.11.3"
>>>>>>> 8942061cc4a5a3d7d7cac368e90b9e5851460c3d
  },
  "orig_nbformat": 4
 },
 "nbformat": 4,
 "nbformat_minor": 2
}
