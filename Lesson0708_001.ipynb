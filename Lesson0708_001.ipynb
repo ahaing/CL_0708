{
 "cells": [
  {
   "cell_type": "code",
   "execution_count": 3,
   "metadata": {},
   "outputs": [
    {
     "name": "stdout",
     "output_type": "stream",
     "text": [
      "0708 test python3.11.3\n"
     ]
    }
   ],
   "source": [
    "#test 0708 intall VSCODE on PC\n",
    "print(\"0708 test python3.11.3\")\n"
   ]
  },
  {
   "cell_type": "markdown",
   "metadata": {},
   "source": [
    "for 自訂變數 in iterable (可以一個一個依序讀取)\n",
    "# range()\n",
    "# list, dictionary, set\n",
    "# google\"python standard function\"\n",
    "#class range(stop)\n",
    "#class range(start, stop, step=1)"
   ]
  },
  {
   "cell_type": "code",
   "execution_count": 6,
   "metadata": {},
   "outputs": [
    {
     "name": "stdout",
     "output_type": "stream",
     "text": [
      "0\n",
      "1\n",
      "2\n",
      "3\n",
      "4\n",
      "5\n",
      "6\n",
      "7\n",
      "8\n",
      "9\n"
     ]
    }
   ],
   "source": [
    "# a=range(1,10)\n",
    "# print(a)\n",
    "\n",
    "# range(1,10,#step=2#) #不能這樣寫  #要寫 range(1,10,2)\n",
    "\n",
    "for i in range(10):\n",
    "    print(i)"
   ]
  },
  {
   "cell_type": "markdown",
   "metadata": {},
   "source": [
    "# python 基礎教程 (bunboob)"
   ]
  },
  {
   "cell_type": "code",
   "execution_count": 20,
   "metadata": {},
   "outputs": [
    {
     "name": "stdout",
     "output_type": "stream",
     "text": [
      "i=1\n",
      "\n",
      "\n",
      "j=1,j=2,j=3,j=4,j=5,j=6,j=7,j=8,j=9,\n",
      "-------\n",
      "i=2\n",
      "\n",
      "\n",
      "j=1,j=2,j=3,j=4,j=5,j=6,j=7,j=8,j=9,\n",
      "-------\n",
      "i=3\n",
      "\n",
      "\n",
      "j=1,j=2,j=3,j=4,j=5,j=6,j=7,j=8,j=9,\n",
      "-------\n"
     ]
    }
   ],
   "source": [
    "for i in range(1,4):\n",
    "    print(f\"i={i}\")\n",
    "    print(\"\\n\")\n",
    "    for j in range(1,10):\n",
    "        print(f\"j={j}\",end=\",\")\n",
    "    print(\"\\n-------\")    \n",
    "    "
   ]
  }
 ],
 "metadata": {
  "kernelspec": {
   "display_name": "Python 3",
   "language": "python",
   "name": "python3"
  },
  "language_info": {
   "codemirror_mode": {
    "name": "ipython",
    "version": 3
   },
   "file_extension": ".py",
   "mimetype": "text/x-python",
   "name": "python",
   "nbconvert_exporter": "python",
   "pygments_lexer": "ipython3",
   "version": "3.11.3"
  },
  "orig_nbformat": 4
 },
 "nbformat": 4,
 "nbformat_minor": 2
}
