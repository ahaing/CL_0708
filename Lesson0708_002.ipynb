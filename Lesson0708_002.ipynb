{
 "cells": [
  {
   "cell_type": "code",
   "execution_count": null,
   "metadata": {},
   "outputs": [],
   "source": [
    "# while迴圈\n",
    "# 存錢每月存，達到預定存款金額時，跳出訊息告知\n",
    "deposit=0\n",
    "while(deposit<30,000):\n",
    "    valueM = int (input(\"請輸入這個月存款:\"))\n",
    "    deposit = deposit + valueM\n"
   ]
  }
 ],
 "metadata": {
  "language_info": {
   "name": "python"
  },
  "orig_nbformat": 4
 },
 "nbformat": 4,
 "nbformat_minor": 2
}
