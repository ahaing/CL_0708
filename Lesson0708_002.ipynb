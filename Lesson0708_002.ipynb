{
 "cells": [
  {
   "cell_type": "code",
   "execution_count": 3,
   "metadata": {},
   "outputs": [
    {
     "name": "stdout",
     "output_type": "stream",
     "text": [
      "已經存夠了, 存了35681元\n"
     ]
    }
   ],
   "source": [
    "# while迴圈\n",
    "# 存錢每月存，達到預定存款金額 (30,000) 時，跳出訊息告知\n",
    "deposit=0\n",
    "while(deposit<30000):\n",
    "    valueM = int (input(f\"請輸入這個月存款:\"))\n",
    "    deposit += valueM\n",
    "    # deposit = deposit + valueM\n",
    "print(f\"已經存夠了, 存了{deposit}元\")\n",
    "\n"
   ]
  },
  {
   "cell_type": "code",
   "execution_count": 5,
   "metadata": {},
   "outputs": [
    {
     "name": "stdout",
     "output_type": "stream",
     "text": [
      "第1月,存入120,已存了120元\n",
      "第2月,存入1000,已存了1120元\n",
      "第3月,存入10000,已存了11120元\n",
      "第4月,存入100000,已存了111120元\n",
      "已經存夠了，存了4月，共111120元\n"
     ]
    }
   ],
   "source": [
    "# while迴圈\n",
    "# 存錢每月存，達到預定存款金額 (30,000) 時，跳出訊息告知\n",
    "deposit=0\n",
    "months=0\n",
    "while(deposit<30000):\n",
    "    months += 1\n",
    "    valueM = int (input(f\"請輸入第{months}月存款:\"))\n",
    "    deposit += valueM\n",
    "    # deposit = deposit + valueM\n",
    "    \n",
    "    print(f\"第{months}月,存入{valueM},已存了{deposit}元\")\n",
    "print(f\"已經存夠了，存了{months}月，共{deposit}元\")"
   ]
  }
 ],
 "metadata": {
  "kernelspec": {
   "display_name": "Python 3",
   "language": "python",
   "name": "python3"
  },
  "language_info": {
   "codemirror_mode": {
    "name": "ipython",
    "version": 3
   },
   "file_extension": ".py",
   "mimetype": "text/x-python",
   "name": "python",
   "nbconvert_exporter": "python",
   "pygments_lexer": "ipython3",
   "version": "3.11.3"
  },
  "orig_nbformat": 4
 },
 "nbformat": 4,
 "nbformat_minor": 2
}
