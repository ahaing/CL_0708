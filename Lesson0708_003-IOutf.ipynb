{
 "cells": [
  {
   "cell_type": "markdown",
   "metadata": {},
   "source": [
    "# break & continue\n"
   ]
  },
  {
   "cell_type": "code",
   "execution_count": 11,
   "metadata": {},
   "outputs": [
    {
     "name": "stdout",
     "output_type": "stream",
     "text": [
      "第1個數字為1\n",
      "第2個數字為2\n",
      "第3個數字為3\n",
      "第4個數字為4\n",
      "第5個數字為5\n",
      "第6個數字為6\n",
      "第7個數字為-999\n",
      "正偶數總和為:12\n"
     ]
    }
   ],
   "source": [
    "# -*- coding: utf-8 -*-\n",
    "# 打开一个文件\n",
    "fo = open(\"sum.txt\", \"w\")\n",
    "\n",
    "sum = 0\n",
    "num = 0\n",
    "while True:\n",
    "    num += 1\n",
    "    input_value = int(input(f\"請輸入第{num}個數字(只加總正偶數，遇到負數則跳停程式)\"))\n",
    "    if input_value <0:\n",
    "        print(f\"第{num}個數字為{input_value}\")\n",
    "        fo.write (f\"the ({num}) is ({input_value}) 第{num}個數字為{input_value}\\n\")\n",
    "        #fo.write (unicode(f\"第{num}個數字為{input_value}\\n\", encoding= \"utf-8\"))\n",
    "        #fo.write (unicode(f\"第{num}個數字為{input_value}\\n\",\"utf-8\").encode(gbk))\n",
    "        break\n",
    "    elif input_value % 2 == 1:\n",
    "        print(f\"第{num}個數字為{input_value}\")\n",
    "        fo.write (f\"第{num}個數字為{input_value}\\n\")\n",
    "        continue\n",
    "    else:\n",
    "        print(f\"第{num}個數字為{input_value}\")\n",
    "        fo.write (f\"第{num}個數字為{input_value}\\n\")\n",
    "        sum += input_value\n",
    "\n",
    "print (f\"正偶數總和為:{sum}\")\n",
    "\n",
    "fo.write (f\"正偶數總和為:{sum}\\n\")\n",
    "\n",
    "# 关闭打开的文件\n",
    "fo.close()"
   ]
  },
  {
   "cell_type": "markdown",
   "metadata": {},
   "source": [
    "# random (沒有出現在build-in 函數裡面，需參考 python 標準 library) => import random\n",
    "https://docs.python.org/zh-tw/3/library/\n",
    "\n",
    "# 回傳整數的函式\n",
    "random.randrange(stop)\n",
    "random.randrange(start, stop[, step])"
   ]
  },
  {
   "cell_type": "code",
   "execution_count": null,
   "metadata": {},
   "outputs": [],
   "source": [
    "import random\n",
    "# random.randint(a, b)\n",
    "# 回傳一個隨機整數 N，使得 a <= N <= b。為 randrange(a, b+1) 的別名。\n",
    "\n",
    "random.randrange(10)\n",
    "random.randint(1,10)\n"
   ]
  }
 ],
 "metadata": {
  "kernelspec": {
   "display_name": "Python 3",
   "language": "python",
   "name": "python3"
  },
  "language_info": {
   "codemirror_mode": {
    "name": "ipython",
    "version": 3
   },
   "file_extension": ".py",
   "mimetype": "text/x-python",
   "name": "python",
   "nbconvert_exporter": "python",
   "pygments_lexer": "ipython3",
   "version": "3.11.3"
  },
  "orig_nbformat": 4
 },
 "nbformat": 4,
 "nbformat_minor": 2
}
